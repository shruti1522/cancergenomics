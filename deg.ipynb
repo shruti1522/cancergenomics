{
 "cells": [
  {
   "cell_type": "code",
   "execution_count": 37,
   "id": "26033c98",
   "metadata": {},
   "outputs": [],
   "source": [
    "import pandas as pd \n",
    "import numpy as np\n",
    "import seaborn as sns \n",
    "import matplotlib.pyplot as plt"
   ]
  },
  {
   "cell_type": "code",
   "execution_count": 38,
   "id": "d1a8f7bc",
   "metadata": {},
   "outputs": [],
   "source": [
    "def cpm(a1):\n",
    "    a=a1._get_numeric_data()\n",
    "    try:\n",
    "        cpm=[]\n",
    "        for i in range(0,len(a.columns)):\n",
    "                colsum=a.iloc[:,i].sum()\n",
    "\n",
    "                c1=(a.iloc[:,i]/colsum)*10**6\n",
    "                cpm.append(c1)\n",
    "    \n",
    "    except:\n",
    "        print(\"ignore error\")\n",
    "    cpm=np.array(cpm)\n",
    "    \n",
    "    return cpm"
   ]
  },
  {
   "cell_type": "code",
   "execution_count": 39,
   "id": "ecaf57b6",
   "metadata": {},
   "outputs": [],
   "source": [
    "file=pd.read_csv(\"GSE196136_Gene_TPM.csv.gz\")\n",
    "file\n",
    "gene_name=file['Unnamed: 0']"
   ]
  },
  {
   "cell_type": "code",
   "execution_count": 40,
   "id": "a18facfb",
   "metadata": {},
   "outputs": [
    {
     "data": {
      "text/html": [
       "<div>\n",
       "<style scoped>\n",
       "    .dataframe tbody tr th:only-of-type {\n",
       "        vertical-align: middle;\n",
       "    }\n",
       "\n",
       "    .dataframe tbody tr th {\n",
       "        vertical-align: top;\n",
       "    }\n",
       "\n",
       "    .dataframe thead th {\n",
       "        text-align: right;\n",
       "    }\n",
       "</style>\n",
       "<table border=\"1\" class=\"dataframe\">\n",
       "  <thead>\n",
       "    <tr style=\"text-align: right;\">\n",
       "      <th></th>\n",
       "      <th>Unnamed: 0</th>\n",
       "      <th>DKO_Reg_1</th>\n",
       "      <th>DKO_Reg_2</th>\n",
       "      <th>DKO_Reg_3</th>\n",
       "      <th>DKO_LG_1</th>\n",
       "      <th>DKO_LG_2</th>\n",
       "      <th>DKO_LG_3</th>\n",
       "      <th>TKO_Reg_1</th>\n",
       "      <th>TKO_Reg_2</th>\n",
       "      <th>TKO_Reg_3</th>\n",
       "      <th>TKO_LG_1</th>\n",
       "      <th>TKO_LG_2</th>\n",
       "      <th>TKO_LG_3</th>\n",
       "    </tr>\n",
       "  </thead>\n",
       "  <tbody>\n",
       "    <tr>\n",
       "      <th>0</th>\n",
       "      <td>PAIP2B</td>\n",
       "      <td>30.423235</td>\n",
       "      <td>31.481529</td>\n",
       "      <td>30.690680</td>\n",
       "      <td>23.076741</td>\n",
       "      <td>24.446241</td>\n",
       "      <td>23.030691</td>\n",
       "      <td>28.993209</td>\n",
       "      <td>25.384073</td>\n",
       "      <td>28.518752</td>\n",
       "      <td>22.866337</td>\n",
       "      <td>19.028723</td>\n",
       "      <td>27.836755</td>\n",
       "    </tr>\n",
       "    <tr>\n",
       "      <th>1</th>\n",
       "      <td>TPI1</td>\n",
       "      <td>295.165911</td>\n",
       "      <td>286.821899</td>\n",
       "      <td>298.193357</td>\n",
       "      <td>323.562608</td>\n",
       "      <td>326.530367</td>\n",
       "      <td>319.704187</td>\n",
       "      <td>365.959038</td>\n",
       "      <td>363.797709</td>\n",
       "      <td>362.192449</td>\n",
       "      <td>589.564546</td>\n",
       "      <td>562.893347</td>\n",
       "      <td>579.290049</td>\n",
       "    </tr>\n",
       "    <tr>\n",
       "      <th>2</th>\n",
       "      <td>GAK</td>\n",
       "      <td>42.528225</td>\n",
       "      <td>43.112759</td>\n",
       "      <td>44.132967</td>\n",
       "      <td>53.241892</td>\n",
       "      <td>51.704143</td>\n",
       "      <td>50.595894</td>\n",
       "      <td>44.628582</td>\n",
       "      <td>45.236672</td>\n",
       "      <td>44.630383</td>\n",
       "      <td>50.594273</td>\n",
       "      <td>49.083072</td>\n",
       "      <td>46.597626</td>\n",
       "    </tr>\n",
       "    <tr>\n",
       "      <th>3</th>\n",
       "      <td>GM17660</td>\n",
       "      <td>0.000000</td>\n",
       "      <td>0.000000</td>\n",
       "      <td>0.000000</td>\n",
       "      <td>0.000000</td>\n",
       "      <td>0.000000</td>\n",
       "      <td>0.000000</td>\n",
       "      <td>0.000000</td>\n",
       "      <td>0.000000</td>\n",
       "      <td>0.000000</td>\n",
       "      <td>0.000000</td>\n",
       "      <td>0.000000</td>\n",
       "      <td>0.000000</td>\n",
       "    </tr>\n",
       "    <tr>\n",
       "      <th>4</th>\n",
       "      <td>NCEH1</td>\n",
       "      <td>9.041303</td>\n",
       "      <td>9.248316</td>\n",
       "      <td>9.600357</td>\n",
       "      <td>12.090369</td>\n",
       "      <td>11.144352</td>\n",
       "      <td>10.833156</td>\n",
       "      <td>7.522402</td>\n",
       "      <td>8.527110</td>\n",
       "      <td>7.775421</td>\n",
       "      <td>8.331588</td>\n",
       "      <td>8.123791</td>\n",
       "      <td>8.715401</td>\n",
       "    </tr>\n",
       "    <tr>\n",
       "      <th>...</th>\n",
       "      <td>...</td>\n",
       "      <td>...</td>\n",
       "      <td>...</td>\n",
       "      <td>...</td>\n",
       "      <td>...</td>\n",
       "      <td>...</td>\n",
       "      <td>...</td>\n",
       "      <td>...</td>\n",
       "      <td>...</td>\n",
       "      <td>...</td>\n",
       "      <td>...</td>\n",
       "      <td>...</td>\n",
       "      <td>...</td>\n",
       "    </tr>\n",
       "    <tr>\n",
       "      <th>23635</th>\n",
       "      <td>RIPPLY1</td>\n",
       "      <td>0.000000</td>\n",
       "      <td>0.000000</td>\n",
       "      <td>0.000000</td>\n",
       "      <td>0.000000</td>\n",
       "      <td>0.000000</td>\n",
       "      <td>0.000000</td>\n",
       "      <td>0.000000</td>\n",
       "      <td>0.000000</td>\n",
       "      <td>0.000000</td>\n",
       "      <td>0.000000</td>\n",
       "      <td>0.000000</td>\n",
       "      <td>0.000000</td>\n",
       "    </tr>\n",
       "    <tr>\n",
       "      <th>23636</th>\n",
       "      <td>ASCC2</td>\n",
       "      <td>47.457822</td>\n",
       "      <td>47.254709</td>\n",
       "      <td>46.757585</td>\n",
       "      <td>43.712417</td>\n",
       "      <td>40.772475</td>\n",
       "      <td>43.435282</td>\n",
       "      <td>46.727313</td>\n",
       "      <td>57.766677</td>\n",
       "      <td>49.816418</td>\n",
       "      <td>53.563440</td>\n",
       "      <td>56.052041</td>\n",
       "      <td>43.771617</td>\n",
       "    </tr>\n",
       "    <tr>\n",
       "      <th>23637</th>\n",
       "      <td>GMEB2</td>\n",
       "      <td>20.445040</td>\n",
       "      <td>20.401937</td>\n",
       "      <td>21.145150</td>\n",
       "      <td>20.740721</td>\n",
       "      <td>21.138470</td>\n",
       "      <td>20.099500</td>\n",
       "      <td>21.398968</td>\n",
       "      <td>21.431631</td>\n",
       "      <td>22.199070</td>\n",
       "      <td>22.052951</td>\n",
       "      <td>19.376705</td>\n",
       "      <td>19.946862</td>\n",
       "    </tr>\n",
       "    <tr>\n",
       "      <th>23638</th>\n",
       "      <td>CXCR6</td>\n",
       "      <td>0.000000</td>\n",
       "      <td>0.000000</td>\n",
       "      <td>0.000000</td>\n",
       "      <td>0.000000</td>\n",
       "      <td>0.000000</td>\n",
       "      <td>0.000000</td>\n",
       "      <td>0.000000</td>\n",
       "      <td>0.000000</td>\n",
       "      <td>0.000000</td>\n",
       "      <td>0.000000</td>\n",
       "      <td>0.000000</td>\n",
       "      <td>0.000000</td>\n",
       "    </tr>\n",
       "    <tr>\n",
       "      <th>23639</th>\n",
       "      <td>OLFR1256</td>\n",
       "      <td>0.000000</td>\n",
       "      <td>0.000000</td>\n",
       "      <td>0.000000</td>\n",
       "      <td>0.000000</td>\n",
       "      <td>0.000000</td>\n",
       "      <td>0.000000</td>\n",
       "      <td>0.000000</td>\n",
       "      <td>0.000000</td>\n",
       "      <td>0.000000</td>\n",
       "      <td>0.000000</td>\n",
       "      <td>0.000000</td>\n",
       "      <td>0.000000</td>\n",
       "    </tr>\n",
       "  </tbody>\n",
       "</table>\n",
       "<p>23640 rows × 13 columns</p>\n",
       "</div>"
      ],
      "text/plain": [
       "      Unnamed: 0   DKO_Reg_1   DKO_Reg_2   DKO_Reg_3    DKO_LG_1    DKO_LG_2  \\\n",
       "0         PAIP2B   30.423235   31.481529   30.690680   23.076741   24.446241   \n",
       "1           TPI1  295.165911  286.821899  298.193357  323.562608  326.530367   \n",
       "2            GAK   42.528225   43.112759   44.132967   53.241892   51.704143   \n",
       "3        GM17660    0.000000    0.000000    0.000000    0.000000    0.000000   \n",
       "4          NCEH1    9.041303    9.248316    9.600357   12.090369   11.144352   \n",
       "...          ...         ...         ...         ...         ...         ...   \n",
       "23635    RIPPLY1    0.000000    0.000000    0.000000    0.000000    0.000000   \n",
       "23636      ASCC2   47.457822   47.254709   46.757585   43.712417   40.772475   \n",
       "23637      GMEB2   20.445040   20.401937   21.145150   20.740721   21.138470   \n",
       "23638      CXCR6    0.000000    0.000000    0.000000    0.000000    0.000000   \n",
       "23639   OLFR1256    0.000000    0.000000    0.000000    0.000000    0.000000   \n",
       "\n",
       "         DKO_LG_3   TKO_Reg_1   TKO_Reg_2   TKO_Reg_3    TKO_LG_1    TKO_LG_2  \\\n",
       "0       23.030691   28.993209   25.384073   28.518752   22.866337   19.028723   \n",
       "1      319.704187  365.959038  363.797709  362.192449  589.564546  562.893347   \n",
       "2       50.595894   44.628582   45.236672   44.630383   50.594273   49.083072   \n",
       "3        0.000000    0.000000    0.000000    0.000000    0.000000    0.000000   \n",
       "4       10.833156    7.522402    8.527110    7.775421    8.331588    8.123791   \n",
       "...           ...         ...         ...         ...         ...         ...   \n",
       "23635    0.000000    0.000000    0.000000    0.000000    0.000000    0.000000   \n",
       "23636   43.435282   46.727313   57.766677   49.816418   53.563440   56.052041   \n",
       "23637   20.099500   21.398968   21.431631   22.199070   22.052951   19.376705   \n",
       "23638    0.000000    0.000000    0.000000    0.000000    0.000000    0.000000   \n",
       "23639    0.000000    0.000000    0.000000    0.000000    0.000000    0.000000   \n",
       "\n",
       "         TKO_LG_3  \n",
       "0       27.836755  \n",
       "1      579.290049  \n",
       "2       46.597626  \n",
       "3        0.000000  \n",
       "4        8.715401  \n",
       "...           ...  \n",
       "23635    0.000000  \n",
       "23636   43.771617  \n",
       "23637   19.946862  \n",
       "23638    0.000000  \n",
       "23639    0.000000  \n",
       "\n",
       "[23640 rows x 13 columns]"
      ]
     },
     "execution_count": 40,
     "metadata": {},
     "output_type": "execute_result"
    }
   ],
   "source": [
    "file"
   ]
  },
  {
   "cell_type": "code",
   "execution_count": 41,
   "id": "069db6d7",
   "metadata": {},
   "outputs": [],
   "source": [
    "cpm=cpm (file)"
   ]
  },
  {
   "cell_type": "code",
   "execution_count": 6,
   "id": "9cf01cbe",
   "metadata": {},
   "outputs": [
    {
     "data": {
      "text/plain": [
       "array([[ 30.42323459, 295.16591062,  42.52822463, ...,  20.44504026,\n",
       "          0.        ,   0.        ],\n",
       "       [ 31.48152885, 286.82189873,  43.11275868, ...,  20.40193697,\n",
       "          0.        ,   0.        ],\n",
       "       [ 30.6906804 , 298.19335685,  44.13296673, ...,  21.14514984,\n",
       "          0.        ,   0.        ],\n",
       "       ...,\n",
       "       [ 22.8663369 , 589.56454624,  50.5942728 , ...,  22.0529506 ,\n",
       "          0.        ,   0.        ],\n",
       "       [ 19.02872301, 562.89334721,  49.08307198, ...,  19.3767052 ,\n",
       "          0.        ,   0.        ],\n",
       "       [ 27.83675463, 579.29004905,  46.59762554, ...,  19.94686166,\n",
       "          0.        ,   0.        ]])"
      ]
     },
     "execution_count": 6,
     "metadata": {},
     "output_type": "execute_result"
    }
   ],
   "source": [
    "cpm"
   ]
  },
  {
   "cell_type": "code",
   "execution_count": 7,
   "id": "4fff88f2",
   "metadata": {},
   "outputs": [],
   "source": [
    "logv=np.log2(cpm+1)"
   ]
  },
  {
   "cell_type": "code",
   "execution_count": 8,
   "id": "ab407f37",
   "metadata": {},
   "outputs": [
    {
     "data": {
      "text/plain": [
       "array([[4.97375979, 8.21026178, 5.44387927, ..., 4.42257212, 0.        ,\n",
       "        0.        ],\n",
       "       [5.02154763, 8.16903255, 5.46312408, ..., 4.41966947, 0.        ,\n",
       "        0.        ],\n",
       "       [4.98598673, 8.22493433, 5.49610971, ..., 4.46891885, 0.        ,\n",
       "        0.        ],\n",
       "       ...,\n",
       "       [4.57690525, 9.20595094, 5.68913902, ..., 4.52687951, 0.        ,\n",
       "        0.        ],\n",
       "       [4.32399854, 9.13927851, 5.64625115, ..., 4.34884889, 0.        ,\n",
       "        0.        ],\n",
       "       [4.8498369 , 9.18063038, 5.5728177 , ..., 4.3886622 , 0.        ,\n",
       "        0.        ]])"
      ]
     },
     "execution_count": 8,
     "metadata": {},
     "output_type": "execute_result"
    }
   ],
   "source": [
    "logv"
   ]
  },
  {
   "cell_type": "code",
   "execution_count": 9,
   "id": "5cb37133",
   "metadata": {},
   "outputs": [],
   "source": [
    "#file=file.values"
   ]
  },
  {
   "cell_type": "code",
   "execution_count": 10,
   "id": "b48d2089",
   "metadata": {},
   "outputs": [
    {
     "data": {
      "text/plain": [
       "<AxesSubplot:>"
      ]
     },
     "execution_count": 10,
     "metadata": {},
     "output_type": "execute_result"
    },
    {
     "data": {
      "image/png": "[encoded data removed]",
      "text/plain": [
       "<Figure size 1170x827 with 2 Axes>"
      ]
     },
     "metadata": {},
     "output_type": "display_data"
    }
   ],
   "source": [
    "import scipy.stats as st\n",
    "zscr=st.zscore(logv)\n",
    "    \n",
    "zscr=pd.DataFrame(zscr)\n",
    "new=zscr.T\n",
    "#new['gene']=id1\n",
    "zscr=new.fillna(0)\n",
    "#zscr['gene']=id1\n",
    "zscr=zscr.values\n",
    "    \n",
    "sns.set(rc={'figure.figsize':(11.7,8.27)})\n",
    "sns.heatmap(zscr[0:10],xticklabels=file.columns[2:14], yticklabels=gene_name[0:10],annot=False,cmap='gnuplot')\n",
    "    "
   ]
  },
  {
   "cell_type": "code",
   "execution_count": 11,
   "id": "b5f91ea1",
   "metadata": {},
   "outputs": [],
   "source": [
    "vec1=logv[0:6]"
   ]
  },
  {
   "cell_type": "code",
   "execution_count": 12,
   "id": "f9f2e12b",
   "metadata": {},
   "outputs": [
    {
     "data": {
      "text/plain": [
       "array([[4.97375979, 8.21026178, 5.44387927, ..., 4.42257212, 0.        ,\n",
       "        0.        ],\n",
       "       [5.02154763, 8.16903255, 5.46312408, ..., 4.41966947, 0.        ,\n",
       "        0.        ],\n",
       "       [4.98598673, 8.22493433, 5.49610971, ..., 4.46891885, 0.        ,\n",
       "        0.        ],\n",
       "       [4.58956823, 8.34235299, 5.76133558, ..., 4.4423279 , 0.        ,\n",
       "        0.        ],\n",
       "       [4.66938065, 8.35548486, 5.71984448, ..., 4.46848362, 0.        ,\n",
       "        0.        ],\n",
       "       [4.58680624, 8.32509938, 5.68918436, ..., 4.39913688, 0.        ,\n",
       "        0.        ]])"
      ]
     },
     "execution_count": 12,
     "metadata": {},
     "output_type": "execute_result"
    }
   ],
   "source": [
    "vec1 #control"
   ]
  },
  {
   "cell_type": "code",
   "execution_count": 13,
   "id": "4be43baa",
   "metadata": {},
   "outputs": [],
   "source": [
    "vec2=logv[7:12]"
   ]
  },
  {
   "cell_type": "code",
   "execution_count": 14,
   "id": "65e1e1cc",
   "metadata": {},
   "outputs": [
    {
     "data": {
      "text/plain": [
       "array([[4.72159537, 8.51095286, 5.53096566, ..., 4.48746263, 0.        ,\n",
       "        0.        ],\n",
       "       [4.8835598 , 8.5045904 , 5.51192286, ..., 4.53599504, 0.        ,\n",
       "        0.        ],\n",
       "       [4.57690525, 9.20595094, 5.68913902, ..., 4.52687951, 0.        ,\n",
       "        0.        ],\n",
       "       [4.32399854, 9.13927851, 5.64625115, ..., 4.34884889, 0.        ,\n",
       "        0.        ],\n",
       "       [4.8498369 , 9.18063038, 5.5728177 , ..., 4.3886622 , 0.        ,\n",
       "        0.        ]])"
      ]
     },
     "execution_count": 14,
     "metadata": {},
     "output_type": "execute_result"
    }
   ],
   "source": [
    "vec2 # tumor"
   ]
  },
  {
   "cell_type": "code",
   "execution_count": 15,
   "id": "aa8c8f16",
   "metadata": {},
   "outputs": [],
   "source": [
    "meanTumor=np.mean(vec1,axis=0)"
   ]
  },
  {
   "cell_type": "code",
   "execution_count": 16,
   "id": "4f14867a",
   "metadata": {},
   "outputs": [
    {
     "data": {
      "text/plain": [
       "array([4.80450821, 8.27119432, 5.59557958, ..., 4.43685147, 0.        ,\n",
       "       0.        ])"
      ]
     },
     "execution_count": 16,
     "metadata": {},
     "output_type": "execute_result"
    }
   ],
   "source": [
    "meanTumor"
   ]
  },
  {
   "cell_type": "code",
   "execution_count": 17,
   "id": "d9d4ae07",
   "metadata": {},
   "outputs": [],
   "source": [
    "meanControl=np.mean(vec2,axis=0)"
   ]
  },
  {
   "cell_type": "code",
   "execution_count": 18,
   "id": "7e936252",
   "metadata": {},
   "outputs": [
    {
     "data": {
      "text/plain": [
       "array([4.67117917, 8.90828062, 5.59021928, ..., 4.45756965, 0.        ,\n",
       "       0.        ])"
      ]
     },
     "execution_count": 18,
     "metadata": {},
     "output_type": "execute_result"
    }
   ],
   "source": [
    "meanControl"
   ]
  },
  {
   "cell_type": "code",
   "execution_count": 19,
   "id": "890cb611",
   "metadata": {},
   "outputs": [],
   "source": [
    "from scipy.stats import ttest_ind"
   ]
  },
  {
   "cell_type": "code",
   "execution_count": 20,
   "id": "1b940c02",
   "metadata": {},
   "outputs": [],
   "source": [
    "pvalue=ttest_ind(vec1,vec2).pvalue"
   ]
  },
  {
   "cell_type": "code",
   "execution_count": 21,
   "id": "bddc9be8",
   "metadata": {},
   "outputs": [
    {
     "data": {
      "text/plain": [
       "array([0.33983312, 0.00235235, 0.94176709, ..., 0.58244455,        nan,\n",
       "              nan])"
      ]
     },
     "execution_count": 21,
     "metadata": {},
     "output_type": "execute_result"
    }
   ],
   "source": [
    "pvalue"
   ]
  },
  {
   "cell_type": "code",
   "execution_count": 22,
   "id": "0b0d2ee6",
   "metadata": {},
   "outputs": [],
   "source": [
    "log2FC=meanTumor-meanControl"
   ]
  },
  {
   "cell_type": "code",
   "execution_count": 23,
   "id": "eeea0985",
   "metadata": {},
   "outputs": [
    {
     "data": {
      "text/plain": [
       "array([ 0.13332904, -0.6370863 ,  0.0053603 , ..., -0.02071818,\n",
       "        0.        ,  0.        ])"
      ]
     },
     "execution_count": 23,
     "metadata": {},
     "output_type": "execute_result"
    }
   ],
   "source": [
    "log2FC"
   ]
  },
  {
   "cell_type": "code",
   "execution_count": 24,
   "id": "bb65b112",
   "metadata": {},
   "outputs": [],
   "source": [
    "result=np.stack((meanTumor,meanControl,log2FC,pvalue),axis=0)"
   ]
  },
  {
   "cell_type": "code",
   "execution_count": 25,
   "id": "ef74e647",
   "metadata": {},
   "outputs": [
    {
     "data": {
      "text/plain": [
       "array([[ 4.80450821e+00,  8.27119432e+00,  5.59557958e+00, ...,\n",
       "         4.43685147e+00,  0.00000000e+00,  0.00000000e+00],\n",
       "       [ 4.67117917e+00,  8.90828062e+00,  5.59021928e+00, ...,\n",
       "         4.45756965e+00,  0.00000000e+00,  0.00000000e+00],\n",
       "       [ 1.33329041e-01, -6.37086301e-01,  5.36030227e-03, ...,\n",
       "        -2.07181815e-02,  0.00000000e+00,  0.00000000e+00],\n",
       "       [ 3.39833119e-01,  2.35234824e-03,  9.41767087e-01, ...,\n",
       "         5.82444550e-01,             nan,             nan]])"
      ]
     },
     "execution_count": 25,
     "metadata": {},
     "output_type": "execute_result"
    }
   ],
   "source": [
    "result"
   ]
  },
  {
   "cell_type": "code",
   "execution_count": 26,
   "id": "3d8f427f",
   "metadata": {},
   "outputs": [],
   "source": [
    "r=pd.DataFrame(result)\n",
    "r=r.T"
   ]
  },
  {
   "cell_type": "code",
   "execution_count": 27,
   "id": "fc357f14",
   "metadata": {},
   "outputs": [],
   "source": [
    "r.columns=[\"meanTumor\",\"meanControl\",\"log2FC\",\"pvalue\"]"
   ]
  },
  {
   "cell_type": "code",
   "execution_count": 28,
   "id": "31df9a77",
   "metadata": {},
   "outputs": [],
   "source": [
    "r['gene']=gene_name"
   ]
  },
  {
   "cell_type": "code",
   "execution_count": 29,
   "id": "facf5dea",
   "metadata": {},
   "outputs": [],
   "source": [
    "#r[\"gene\"] = r.gene.shift(-1)\n",
    "col_1=r.pop('gene')\n",
    "r.insert(0,'gene',col_1)"
   ]
  },
  {
   "cell_type": "code",
   "execution_count": 30,
   "id": "3ac3bc1e",
   "metadata": {},
   "outputs": [
    {
     "data": {
      "text/html": [
       "<div>\n",
       "<style scoped>\n",
       "    .dataframe tbody tr th:only-of-type {\n",
       "        vertical-align: middle;\n",
       "    }\n",
       "\n",
       "    .dataframe tbody tr th {\n",
       "        vertical-align: top;\n",
       "    }\n",
       "\n",
       "    .dataframe thead th {\n",
       "        text-align: right;\n",
       "    }\n",
       "</style>\n",
       "<table border=\"1\" class=\"dataframe\">\n",
       "  <thead>\n",
       "    <tr style=\"text-align: right;\">\n",
       "      <th></th>\n",
       "      <th>gene</th>\n",
       "      <th>meanTumor</th>\n",
       "      <th>meanControl</th>\n",
       "      <th>log2FC</th>\n",
       "      <th>pvalue</th>\n",
       "    </tr>\n",
       "  </thead>\n",
       "  <tbody>\n",
       "    <tr>\n",
       "      <th>0</th>\n",
       "      <td>PAIP2B</td>\n",
       "      <td>4.804508</td>\n",
       "      <td>4.671179</td>\n",
       "      <td>0.133329</td>\n",
       "      <td>0.339833</td>\n",
       "    </tr>\n",
       "    <tr>\n",
       "      <th>1</th>\n",
       "      <td>TPI1</td>\n",
       "      <td>8.271194</td>\n",
       "      <td>8.908281</td>\n",
       "      <td>-0.637086</td>\n",
       "      <td>0.002352</td>\n",
       "    </tr>\n",
       "    <tr>\n",
       "      <th>2</th>\n",
       "      <td>GAK</td>\n",
       "      <td>5.595580</td>\n",
       "      <td>5.590219</td>\n",
       "      <td>0.005360</td>\n",
       "      <td>0.941767</td>\n",
       "    </tr>\n",
       "    <tr>\n",
       "      <th>3</th>\n",
       "      <td>GM17660</td>\n",
       "      <td>0.000000</td>\n",
       "      <td>0.000000</td>\n",
       "      <td>0.000000</td>\n",
       "      <td>NaN</td>\n",
       "    </tr>\n",
       "    <tr>\n",
       "      <th>4</th>\n",
       "      <td>NCEH1</td>\n",
       "      <td>3.494773</td>\n",
       "      <td>3.215507</td>\n",
       "      <td>0.279266</td>\n",
       "      <td>0.004032</td>\n",
       "    </tr>\n",
       "    <tr>\n",
       "      <th>...</th>\n",
       "      <td>...</td>\n",
       "      <td>...</td>\n",
       "      <td>...</td>\n",
       "      <td>...</td>\n",
       "      <td>...</td>\n",
       "    </tr>\n",
       "    <tr>\n",
       "      <th>23635</th>\n",
       "      <td>RIPPLY1</td>\n",
       "      <td>0.000000</td>\n",
       "      <td>0.000000</td>\n",
       "      <td>0.000000</td>\n",
       "      <td>NaN</td>\n",
       "    </tr>\n",
       "    <tr>\n",
       "      <th>23636</th>\n",
       "      <td>ASCC2</td>\n",
       "      <td>5.518272</td>\n",
       "      <td>5.726546</td>\n",
       "      <td>-0.208274</td>\n",
       "      <td>0.020382</td>\n",
       "    </tr>\n",
       "    <tr>\n",
       "      <th>23637</th>\n",
       "      <td>GMEB2</td>\n",
       "      <td>4.436851</td>\n",
       "      <td>4.457570</td>\n",
       "      <td>-0.020718</td>\n",
       "      <td>0.582445</td>\n",
       "    </tr>\n",
       "    <tr>\n",
       "      <th>23638</th>\n",
       "      <td>CXCR6</td>\n",
       "      <td>0.000000</td>\n",
       "      <td>0.000000</td>\n",
       "      <td>0.000000</td>\n",
       "      <td>NaN</td>\n",
       "    </tr>\n",
       "    <tr>\n",
       "      <th>23639</th>\n",
       "      <td>OLFR1256</td>\n",
       "      <td>0.000000</td>\n",
       "      <td>0.000000</td>\n",
       "      <td>0.000000</td>\n",
       "      <td>NaN</td>\n",
       "    </tr>\n",
       "  </tbody>\n",
       "</table>\n",
       "<p>23640 rows × 5 columns</p>\n",
       "</div>"
      ],
      "text/plain": [
       "           gene  meanTumor  meanControl    log2FC    pvalue\n",
       "0        PAIP2B   4.804508     4.671179  0.133329  0.339833\n",
       "1          TPI1   8.271194     8.908281 -0.637086  0.002352\n",
       "2           GAK   5.595580     5.590219  0.005360  0.941767\n",
       "3       GM17660   0.000000     0.000000  0.000000       NaN\n",
       "4         NCEH1   3.494773     3.215507  0.279266  0.004032\n",
       "...         ...        ...          ...       ...       ...\n",
       "23635   RIPPLY1   0.000000     0.000000  0.000000       NaN\n",
       "23636     ASCC2   5.518272     5.726546 -0.208274  0.020382\n",
       "23637     GMEB2   4.436851     4.457570 -0.020718  0.582445\n",
       "23638     CXCR6   0.000000     0.000000  0.000000       NaN\n",
       "23639  OLFR1256   0.000000     0.000000  0.000000       NaN\n",
       "\n",
       "[23640 rows x 5 columns]"
      ]
     },
     "execution_count": 30,
     "metadata": {},
     "output_type": "execute_result"
    }
   ],
   "source": [
    "r"
   ]
  },
  {
   "cell_type": "code",
   "execution_count": 31,
   "id": "cc65961e",
   "metadata": {},
   "outputs": [],
   "source": [
    "r['pvalue']=r['pvalue'].fillna(1)"
   ]
  },
  {
   "cell_type": "code",
   "execution_count": 32,
   "id": "36a3fd93",
   "metadata": {},
   "outputs": [
    {
     "data": {
      "text/html": [
       "<div>\n",
       "<style scoped>\n",
       "    .dataframe tbody tr th:only-of-type {\n",
       "        vertical-align: middle;\n",
       "    }\n",
       "\n",
       "    .dataframe tbody tr th {\n",
       "        vertical-align: top;\n",
       "    }\n",
       "\n",
       "    .dataframe thead th {\n",
       "        text-align: right;\n",
       "    }\n",
       "</style>\n",
       "<table border=\"1\" class=\"dataframe\">\n",
       "  <thead>\n",
       "    <tr style=\"text-align: right;\">\n",
       "      <th></th>\n",
       "      <th>gene</th>\n",
       "      <th>meanTumor</th>\n",
       "      <th>meanControl</th>\n",
       "      <th>log2FC</th>\n",
       "      <th>pvalue</th>\n",
       "    </tr>\n",
       "  </thead>\n",
       "  <tbody>\n",
       "    <tr>\n",
       "      <th>0</th>\n",
       "      <td>PAIP2B</td>\n",
       "      <td>4.804508</td>\n",
       "      <td>4.671179</td>\n",
       "      <td>0.133329</td>\n",
       "      <td>0.339833</td>\n",
       "    </tr>\n",
       "    <tr>\n",
       "      <th>1</th>\n",
       "      <td>TPI1</td>\n",
       "      <td>8.271194</td>\n",
       "      <td>8.908281</td>\n",
       "      <td>-0.637086</td>\n",
       "      <td>0.002352</td>\n",
       "    </tr>\n",
       "    <tr>\n",
       "      <th>2</th>\n",
       "      <td>GAK</td>\n",
       "      <td>5.595580</td>\n",
       "      <td>5.590219</td>\n",
       "      <td>0.005360</td>\n",
       "      <td>0.941767</td>\n",
       "    </tr>\n",
       "    <tr>\n",
       "      <th>3</th>\n",
       "      <td>GM17660</td>\n",
       "      <td>0.000000</td>\n",
       "      <td>0.000000</td>\n",
       "      <td>0.000000</td>\n",
       "      <td>1.000000</td>\n",
       "    </tr>\n",
       "    <tr>\n",
       "      <th>4</th>\n",
       "      <td>NCEH1</td>\n",
       "      <td>3.494773</td>\n",
       "      <td>3.215507</td>\n",
       "      <td>0.279266</td>\n",
       "      <td>0.004032</td>\n",
       "    </tr>\n",
       "    <tr>\n",
       "      <th>...</th>\n",
       "      <td>...</td>\n",
       "      <td>...</td>\n",
       "      <td>...</td>\n",
       "      <td>...</td>\n",
       "      <td>...</td>\n",
       "    </tr>\n",
       "    <tr>\n",
       "      <th>23635</th>\n",
       "      <td>RIPPLY1</td>\n",
       "      <td>0.000000</td>\n",
       "      <td>0.000000</td>\n",
       "      <td>0.000000</td>\n",
       "      <td>1.000000</td>\n",
       "    </tr>\n",
       "    <tr>\n",
       "      <th>23636</th>\n",
       "      <td>ASCC2</td>\n",
       "      <td>5.518272</td>\n",
       "      <td>5.726546</td>\n",
       "      <td>-0.208274</td>\n",
       "      <td>0.020382</td>\n",
       "    </tr>\n",
       "    <tr>\n",
       "      <th>23637</th>\n",
       "      <td>GMEB2</td>\n",
       "      <td>4.436851</td>\n",
       "      <td>4.457570</td>\n",
       "      <td>-0.020718</td>\n",
       "      <td>0.582445</td>\n",
       "    </tr>\n",
       "    <tr>\n",
       "      <th>23638</th>\n",
       "      <td>CXCR6</td>\n",
       "      <td>0.000000</td>\n",
       "      <td>0.000000</td>\n",
       "      <td>0.000000</td>\n",
       "      <td>1.000000</td>\n",
       "    </tr>\n",
       "    <tr>\n",
       "      <th>23639</th>\n",
       "      <td>OLFR1256</td>\n",
       "      <td>0.000000</td>\n",
       "      <td>0.000000</td>\n",
       "      <td>0.000000</td>\n",
       "      <td>1.000000</td>\n",
       "    </tr>\n",
       "  </tbody>\n",
       "</table>\n",
       "<p>23640 rows × 5 columns</p>\n",
       "</div>"
      ],
      "text/plain": [
       "           gene  meanTumor  meanControl    log2FC    pvalue\n",
       "0        PAIP2B   4.804508     4.671179  0.133329  0.339833\n",
       "1          TPI1   8.271194     8.908281 -0.637086  0.002352\n",
       "2           GAK   5.595580     5.590219  0.005360  0.941767\n",
       "3       GM17660   0.000000     0.000000  0.000000  1.000000\n",
       "4         NCEH1   3.494773     3.215507  0.279266  0.004032\n",
       "...         ...        ...          ...       ...       ...\n",
       "23635   RIPPLY1   0.000000     0.000000  0.000000  1.000000\n",
       "23636     ASCC2   5.518272     5.726546 -0.208274  0.020382\n",
       "23637     GMEB2   4.436851     4.457570 -0.020718  0.582445\n",
       "23638     CXCR6   0.000000     0.000000  0.000000  1.000000\n",
       "23639  OLFR1256   0.000000     0.000000  0.000000  1.000000\n",
       "\n",
       "[23640 rows x 5 columns]"
      ]
     },
     "execution_count": 32,
     "metadata": {},
     "output_type": "execute_result"
    }
   ],
   "source": [
    "r"
   ]
  },
  {
   "cell_type": "code",
   "execution_count": 33,
   "id": "0769f2fa",
   "metadata": {},
   "outputs": [],
   "source": [
    "r.to_csv(\"deg.csv\",index=False)"
   ]
  },
  {
   "cell_type": "code",
   "execution_count": 34,
   "id": "2b9bc63c",
   "metadata": {},
   "outputs": [],
   "source": [
    "#pip install bioinfokit"
   ]
  },
  {
   "cell_type": "code",
   "execution_count": 35,
   "id": "3b44fc44",
   "metadata": {},
   "outputs": [],
   "source": [
    "from bioinfokit import analys, visuz"
   ]
  },
  {
   "cell_type": "code",
   "execution_count": 36,
   "id": "e41272cb",
   "metadata": {},
   "outputs": [
    {
     "data": {
      "image/png": "[encoded data removed]",
      "text/plain": [
       "<Figure size 500x500 with 1 Axes>"
      ]
     },
     "metadata": {},
     "output_type": "display_data"
    }
   ],
   "source": [
    "visuz.GeneExpression.volcano(r, lfc='log2FC', pv='pvalue',plotlegend=True, legendpos='upper right', \n",
    "    legendanchor=(1.46,1),show=True)"
   ]
  }
 ],
 "metadata": {
  "kernelspec": {
   "display_name": "Python 3 (ipykernel)",
   "language": "python",
   "name": "python3"
  },
  "language_info": {
   "codemirror_mode": {
    "name": "ipython",
    "version": 3
   },
   "file_extension": ".py",
   "mimetype": "text/x-python",
   "name": "python",
   "nbconvert_exporter": "python",
   "pygments_lexer": "ipython3",
   "version": "3.10.6"
  }
 },
 "nbformat": 4,
 "nbformat_minor": 5
}
